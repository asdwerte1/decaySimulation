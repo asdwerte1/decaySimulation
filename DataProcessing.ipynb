{
 "cells": [
  {
   "cell_type": "markdown",
   "metadata": {},
   "source": [
    "# Data Processing\n",
    "\n",
    "For details on the planned workflow refer to Notes\n",
    "\n",
    "The starting point will be the file *nubase_4.mas20*\n",
    "\n",
    "This is a fixed width field data file - aim here is to parse and process the data for use in simulation\n",
    "\n",
    "### The columns are defined below\n",
    "\n",
    "                                    Data FORMAT \n",
    "    column   quantity   format      description\n",
    "      1: 3   AAA           a3       Mass Number (AAA)\n",
    "      5: 8   ZZZi          a4       Atomic Number (ZZZ); i=0 (gs); i=1,2 (isomers); i=3,4 (levels); i=5 (resonance); i=8,9 (IAS)\n",
    "                                    i=3,4,5,6 can also indicate isomers (when more than two isomers are presented in a nuclide)\n",
    "    12: 16   A El          a5       A Element \n",
    "    17: 17   s             a1       s=m,n (isomers); s=p,q (levels); s=r (reonance); s=i,j (IAS); \n",
    "                                    s=p,q,r,x can also indicate isomers (when more than two isomers are presented in a nuclide)\n",
    "    19: 31   Mass #     f13.6       Mass Excess in keV (# from systematics)\n",
    "    32: 42   dMass #    f11.6       Mass Excess uncertainty in keV (# from systematics)\n",
    "    43: 54   Exc #      f12.6       Isomer Excitation Energy in keV (# from systematics)\n",
    "    55: 65   dE #       f11.6       Isomer Excitation Energy uncertainty in keV (# from systematics)\n",
    "    66: 67   Orig          a2       Origin of Excitation Energy  \n",
    "    68: 68   Isom.Unc      a1       Isom.Unc = *  (gs and isomer ordering is uncertain) \n",
    "    69: 69   Isom.Inv      a1       Isom.Inv = &  (the ordering of gs and isomer is reversed compared to ENSDF) \n",
    "    70: 78   T #         f9.4       Half-life (# from systematics); stbl=stable; p-unst=particle unstable\n",
    "    79: 80   unit T        a2       Half-life unit \n",
    "    82: 88   dT            a7       Half-life uncertainty \n",
    "    89:102   Jpi */#/T=    a14      Spin and Parity (* directly measured; # from systematics; T=isospin) \n",
    "    103:104   Ensdf year   a2       Ensdf update year \n",
    "    115:118   Discovery    a4       Year of Discovery \n",
    "    120:209   BR           a90      Decay Modes and their Intensities and Uncertanties in %; IS = Isotopic Abundance in %"
   ]
  },
  {
   "cell_type": "code",
   "execution_count": null,
   "metadata": {},
   "outputs": [],
   "source": [
    "# Read in data files\n",
    "with open(\"nubase_4.mas20\", \"r\") as file:\n",
    "    data = file.read()"
   ]
  },
  {
   "cell_type": "code",
   "execution_count": null,
   "metadata": {},
   "outputs": [],
   "source": [
    "data = data.split(\"\\n\") # Separate lines\n",
    "for line in data:\n",
    "    print(line)"
   ]
  },
  {
   "cell_type": "code",
   "execution_count": null,
   "metadata": {},
   "outputs": [],
   "source": [
    "# Remove lines starting with '#' to remove header section\n",
    "data = [line for line in data if not line.startswith(\"#\")]\n",
    "\n",
    "for line in data:\n",
    "    print(line)\n",
    "\n"
   ]
  },
  {
   "cell_type": "code",
   "execution_count": null,
   "metadata": {},
   "outputs": [],
   "source": [
    "# Test logic for separating data items on a line\n",
    "line = data[0]\n",
    "line = [item for item in line.split(\" \") if item]\n",
    "print(line)"
   ]
  },
  {
   "cell_type": "markdown",
   "metadata": {},
   "source": [
    "Apply the above logic to the entire data set - output should be a 2D list"
   ]
  },
  {
   "cell_type": "code",
   "execution_count": null,
   "metadata": {},
   "outputs": [],
   "source": [
    "processed_data = []\n",
    "\n",
    "for line in data:\n",
    "    processed_data.append([item for item in line.split(\" \") if item])"
   ]
  },
  {
   "cell_type": "markdown",
   "metadata": {},
   "source": [
    "2D list created above - ready to output to a CSV.\n",
    "\n",
    "### Note - possible issue noticed\n",
    "\n",
    "Currently, the \"lines\" in the processed_data list are of varying length - and this means there is no way to determine what data is in each item since some isotopes do not have as much information.\n",
    "\n",
    "This will need fixing before going further - each line must be of equal length so I will need to ensure items not included in the data are left blank.\n",
    "\n",
    "For continuation I will preserve the above and start over below\n",
    "\n",
    "# Restart point (see directly above for reason)"
   ]
  },
  {
   "cell_type": "code",
   "execution_count": null,
   "metadata": {},
   "outputs": [],
   "source": [
    "# For reference - what is the max lenght we will require?\n",
    "max_len = 0\n",
    "\n",
    "for line in processed_data:\n",
    "    max_len = len(line) if len(line) > max_len else max_len\n",
    "    \n",
    "print(max_len)"
   ]
  },
  {
   "cell_type": "markdown",
   "metadata": {},
   "source": [
    "Largest number of data items in one row is 19 - so all rows will need this (with empty padding elements included if needed)"
   ]
  },
  {
   "cell_type": "code",
   "execution_count": 26,
   "metadata": {},
   "outputs": [],
   "source": [
    "# Read in data files\n",
    "with open(\"nubase_4.mas20\", \"r\") as file:\n",
    "    data = file.read()\n",
    "    \n",
    "data = data.split(\"\\n\") # Separate lines\n",
    "\n",
    "# Remove lines starting with '#' to remove header section\n",
    "data = [line for line in data if not line.startswith(\"#\")]"
   ]
  },
  {
   "cell_type": "code",
   "execution_count": 29,
   "metadata": {},
   "outputs": [
    {
     "name": "stdout",
     "output_type": "stream",
     "text": [
      "['001', '0000', '', '', '1n', '', '', '', '', '', '', '8071.3181', '', '', '', '', '0.0004', '', '', '', '', '', '', '', '', '', '', '', '', '', '', '', '', '', '', '', '', '', '', '', '', '', '', '', '', '', '609.8', '', '', '', 's', '0.6', '', '', '', '1/2+*', '', '', '', '', '', '', '', '', '06', '', '', '', '', '', '', '', '', '', '1932', 'B-=100']\n",
      "76\n"
     ]
    }
   ],
   "source": [
    "# Test logic for separating data items on a line - need to work out how to ensure length is correct\n",
    "line = data[0]\n",
    "line = [item for item in line.split(\" \")]\n",
    "print(line)\n",
    "\n",
    "print(len(line))"
   ]
  },
  {
   "cell_type": "markdown",
   "metadata": {},
   "source": [
    "Current idea:\n",
    "- If there is a sequence of two or more empty strings in the list remove all but the first one\n",
    "- This *may* bring the list length to the correct value (19), with the empty spaces in the places where data is not present"
   ]
  },
  {
   "cell_type": "code",
   "execution_count": 31,
   "metadata": {},
   "outputs": [
    {
     "name": "stdout",
     "output_type": "stream",
     "text": [
      "['001', '0000', '', '1n', '', '8071.3181', '', '0.0004', '', '609.8', '', 's', '0.6', '', '1/2+*', '', '06', '', '1932', 'B-=100']\n",
      "20\n"
     ]
    }
   ],
   "source": [
    "cleaned_line = []\n",
    "for i, item in enumerate(line):\n",
    "    if item:\n",
    "        cleaned_line.append(item)\n",
    "    elif i + 1 < len(line) and line[i + 1]:\n",
    "        cleaned_line.append(item)\n",
    "print(cleaned_line)\n",
    "print(len(cleaned_line))"
   ]
  },
  {
   "cell_type": "markdown",
   "metadata": {},
   "source": [
    "Close, but not quite - the lenght of this line is 1 greater than the length of the longest line before hand - which suggests that one of the empty strings included here is not needed.\n",
    "\n",
    "The requirement now is to find the item that is not needed somehow"
   ]
  }
 ],
 "metadata": {
  "kernelspec": {
   "display_name": "Python 3",
   "language": "python",
   "name": "python3"
  },
  "language_info": {
   "codemirror_mode": {
    "name": "ipython",
    "version": 3
   },
   "file_extension": ".py",
   "mimetype": "text/x-python",
   "name": "python",
   "nbconvert_exporter": "python",
   "pygments_lexer": "ipython3",
   "version": "3.10.12"
  }
 },
 "nbformat": 4,
 "nbformat_minor": 2
}
